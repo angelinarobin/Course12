{
  "nbformat": 4,
  "nbformat_minor": 0,
  "metadata": {
    "kernelspec": {
      "display_name": "Python 3",
      "language": "python",
      "name": "python3"
    },
    "language_info": {
      "codemirror_mode": {
        "name": "ipython",
        "version": 3
      },
      "file_extension": ".py",
      "mimetype": "text/x-python",
      "name": "python",
      "nbconvert_exporter": "python",
      "pygments_lexer": "ipython3",
      "version": "3.8.0"
    },
    "colab": {
      "provenance": [],
      "include_colab_link": true
    }
  },
  "cells": [
    {
      "cell_type": "markdown",
      "metadata": {
        "id": "view-in-github",
        "colab_type": "text"
      },
      "source": [
        "<a href=\"https://colab.research.google.com/github/angelinarobin/Course12/blob/main/28_Enrich_users_profiles_Challenge.ipynb\" target=\"_parent\"><img src=\"https://colab.research.google.com/assets/colab-badge.svg\" alt=\"Open In Colab\"/></a>"
      ]
    },
    {
      "cell_type": "markdown",
      "metadata": {
        "id": "fhlLb9BKgfgp"
      },
      "source": [
        " ![Emil](data:image/png;base64,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)"
      ]
    },
    {
      "cell_type": "markdown",
      "metadata": {
        "id": "b8BkIRvbgfgq"
      },
      "source": [
        "# Enrich users profiles"
      ]
    },
    {
      "cell_type": "markdown",
      "metadata": {
        "id": "EtDz6lJigfig"
      },
      "source": [
        "a) Import the [`microsoft_companies.json`](https://drive.google.com/file/d/1Zrja9KY-05u8XsGfK-P97zGa-NyipS49/view?usp=sharing) file into Colab.\n",
        "\n",
        "Run the code below to get the results in the `microsoft_companies` variable. We will study tomorrow how to load data in Python."
      ]
    },
    {
      "cell_type": "code",
      "source": [
        "import json\n",
        "\n",
        "with open('/content/microsoft_companies (2).json') as json_file:\n",
        "    microsoft_companies = json.load(json_file)"
      ],
      "metadata": {
        "id": "uTKhgzBGiSch"
      },
      "execution_count": 5,
      "outputs": []
    },
    {
      "cell_type": "code",
      "source": [
        "print(type(microsoft_companies))"
      ],
      "metadata": {
        "id": "odc91vursBPk",
        "outputId": "1ff37392-b201-43d3-f331-de0c7a714125",
        "colab": {
          "base_uri": "https://localhost:8080/"
        }
      },
      "execution_count": 7,
      "outputs": [
        {
          "output_type": "stream",
          "name": "stdout",
          "text": [
            "<class 'list'>\n"
          ]
        }
      ]
    },
    {
      "cell_type": "markdown",
      "metadata": {
        "id": "b2YGCtehgfij"
      },
      "source": [
        "b) What is the type of the `microsoft_companies` variable?"
      ]
    },
    {
      "cell_type": "code",
      "metadata": {
        "id": "kUrUC6dZgfik",
        "colab": {
          "base_uri": "https://localhost:8080/"
        },
        "outputId": "3f6c198a-0b43-4ed1-d2ad-7b54a5f8a754"
      },
      "source": [
        "print(len(microsoft_companies))"
      ],
      "execution_count": 8,
      "outputs": [
        {
          "output_type": "stream",
          "name": "stdout",
          "text": [
            "301\n"
          ]
        }
      ]
    },
    {
      "cell_type": "markdown",
      "metadata": {
        "id": "m1Pr0zNcgfil"
      },
      "source": [
        "c) How many companies are in this list?"
      ]
    },
    {
      "cell_type": "code",
      "metadata": {
        "id": "DmuqK9XVgfim",
        "outputId": "68eb7cd4-bd5a-4cfc-b7f1-6cb86c49d8d7",
        "colab": {
          "base_uri": "https://localhost:8080/"
        }
      },
      "source": [
        "First_company = microsoft_companies[0]\n",
        "\n",
        "print(type(First_company))"
      ],
      "execution_count": 11,
      "outputs": [
        {
          "output_type": "stream",
          "name": "stdout",
          "text": [
            "<class 'dict'>\n"
          ]
        }
      ]
    },
    {
      "cell_type": "markdown",
      "metadata": {
        "id": "Ar3vnEkygfin"
      },
      "source": [
        "d) Look at the first item on this list. What type is it?"
      ]
    },
    {
      "cell_type": "code",
      "metadata": {
        "id": "79SP7qe4gfin"
      },
      "source": [],
      "execution_count": null,
      "outputs": []
    },
    {
      "cell_type": "markdown",
      "metadata": {
        "id": "3J2GJQBzgfip"
      },
      "source": [
        "e) For this first item, display the company name, industry, field and total number of employees."
      ]
    },
    {
      "cell_type": "code",
      "metadata": {
        "id": "OwKpRvL5gfiq"
      },
      "source": [
        "\n"
      ],
      "execution_count": null,
      "outputs": []
    },
    {
      "cell_type": "markdown",
      "metadata": {
        "id": "qz7QgDnbgfir"
      },
      "source": [
        "f) Do you think that this company \"microsoft\" is the giant American company?"
      ]
    },
    {
      "cell_type": "markdown",
      "metadata": {
        "id": "IpUUDBn8gfir"
      },
      "source": []
    },
    {
      "cell_type": "markdown",
      "metadata": {
        "id": "hPQFh5_rgfis"
      },
      "source": [
        "g) So it looks like there are homonyms.\n",
        "\n",
        "Create a new empty list and add all the companies whose names are exactly \"microsoft\".\n",
        "\n",
        "To do this, you will need to loop through all the companies and use a condition to check that their names are indeed \"microsoft\". If this is the case, the company information will be added to the empty list.\n",
        "\n",
        "How many are there?"
      ]
    },
    {
      "cell_type": "code",
      "metadata": {
        "id": "aPt7PEYugfit"
      },
      "source": [
        "exact_microsoft_companies = []\n",
        "\n",
        "# iterate through all companies\n",
        "for company_info in microsoft_companies:\n",
        "    # if statement to be completed\n",
        "\n"
      ],
      "execution_count": null,
      "outputs": []
    },
    {
      "cell_type": "markdown",
      "metadata": {
        "id": "V6lW98xtgfiw"
      },
      "source": [
        "h) Among the results obtained, do you see the giant American company?\n",
        "\n",
        "You can run the code below and then use the `pprint` function to indent the results.\n",
        "\n",
        "You can use it like print function."
      ]
    },
    {
      "cell_type": "code",
      "metadata": {
        "id": "GD1Ysk9yeY7T"
      },
      "source": [
        "from pprint import pprint"
      ],
      "execution_count": null,
      "outputs": []
    },
    {
      "cell_type": "code",
      "metadata": {
        "colab": {
          "base_uri": "https://localhost:8080/"
        },
        "id": "8wE5QkZpd07w",
        "outputId": "c5bb7981-d803-4490-c702-a1b805f03c1e"
      },
      "source": [
        "pprint(exact_microsoft_companies)"
      ],
      "execution_count": null,
      "outputs": [
        {
          "output_type": "stream",
          "name": "stdout",
          "text": [
            "[{'datasetid': 'companies-on-linkedin',\n",
            "  'fields': {'current_employee_estimate': 6,\n",
            "             'domain0': 'https://www.develop-online.net',\n",
            "             'industry': 'computer games',\n",
            "             'linkedin_url': 'https://www.linkedin.com/company/develop-magazine',\n",
            "             'name': 'microsoft',\n",
            "             'size_range': '11 - 50',\n",
            "             'total_employee_estimate': 44},\n",
            "  'record_timestamp': '2019-06-03T09:35:00+02:00',\n",
            "  'recordid': 'c4d310fc0f0f277e574e20f5e2185d4765a1ab3f'},\n",
            " {'datasetid': 'companies-on-linkedin',\n",
            "  'fields': {'country': 'united states',\n",
            "             'current_employee_estimate': 116196,\n",
            "             'domain0': 'https://www.microsoft.com',\n",
            "             'industry': 'computer software',\n",
            "             'linkedin_url': 'https://www.linkedin.com/company/microsoft',\n",
            "             'locality': 'redmond,washington,united states',\n",
            "             'name': 'microsoft',\n",
            "             'size_range': '10001+',\n",
            "             'total_employee_estimate': 276983,\n",
            "             'year_founded': '1975'},\n",
            "  'record_timestamp': '2019-06-03T09:35:00+02:00',\n",
            "  'recordid': 'd8611a51def434f1049b899a99d8a589fbb7b9c1'},\n",
            " {'datasetid': 'companies-on-linkedin',\n",
            "  'fields': {'current_employee_estimate': 1,\n",
            "             'domain0': 'https://www.',\n",
            "             'industry': 'computer software',\n",
            "             'linkedin_url': 'https://www.linkedin.com/company/microsoft-cyprus',\n",
            "             'name': 'microsoft',\n",
            "             'size_range': '1 - 10',\n",
            "             'total_employee_estimate': 5,\n",
            "             'year_founded': '1975'},\n",
            "  'record_timestamp': '2019-06-03T09:35:00+02:00',\n",
            "  'recordid': 'a5140838fb9ffcda43fa4b8f35cd13ed2abe67f7'},\n",
            " {'datasetid': 'companies-on-linkedin',\n",
            "  'fields': {'current_employee_estimate': 6,\n",
            "             'domain0': 'https://www.',\n",
            "             'industry': 'computer software',\n",
            "             'linkedin_url': 'https://www.linkedin.com/company/microsoft-2',\n",
            "             'name': 'microsoft',\n",
            "             'size_range': '11 - 50',\n",
            "             'total_employee_estimate': 9},\n",
            "  'record_timestamp': '2019-06-03T09:35:00+02:00',\n",
            "  'recordid': 'be50e923df54801d559eb644eac1580f92052573'},\n",
            " {'datasetid': 'companies-on-linkedin',\n",
            "  'fields': {'current_employee_estimate': 0,\n",
            "             'domain0': 'https://www.microsoftaaas.com',\n",
            "             'industry': 'management consulting',\n",
            "             'linkedin_url': 'https://www.linkedin.com/company/microsoft-alliance-as-a-service',\n",
            "             'name': 'microsoft',\n",
            "             'size_range': '1 - 10',\n",
            "             'total_employee_estimate': 3,\n",
            "             'year_founded': '2012'},\n",
            "  'record_timestamp': '2019-06-03T09:35:00+02:00',\n",
            "  'recordid': '998d5e4e4bebfdb1a2af75f3b3014ddb1377c736'},\n",
            " {'datasetid': 'companies-on-linkedin',\n",
            "  'fields': {'country': 'india',\n",
            "             'current_employee_estimate': 1,\n",
            "             'domain0': 'https://www.maziksolutions.com',\n",
            "             'industry': 'information technology and services',\n",
            "             'linkedin_url': 'https://www.linkedin.com/company/mazik-solutions-pvt-ltd',\n",
            "             'name': 'microsoft',\n",
            "             'size_range': '1 - 10',\n",
            "             'total_employee_estimate': 4,\n",
            "             'year_founded': '2010'},\n",
            "  'record_timestamp': '2019-06-03T09:35:00+02:00',\n",
            "  'recordid': '694e5569ffadbee848f1c3ab7a180f158a5506be'}]\n"
          ]
        }
      ]
    },
    {
      "cell_type": "markdown",
      "metadata": {
        "id": "Aj6R6G-Ggfiw"
      },
      "source": [
        "Yes, the one with 276983 employees."
      ]
    },
    {
      "cell_type": "markdown",
      "metadata": {
        "id": "GbBprzd6gfiw"
      },
      "source": [
        "i) To facilitate the work of the other teams, we will translate the number of employees into categories. To do this, we will use the following correspondences:\n",
        "   - less than 5: \"small business\n",
        "   - from 5 to 30: \"startup\n",
        "   - from 30 to 200: \"scaleup\n",
        "   - from 200 to 1000: \"big companies\n",
        "   - more than 1000: \"very large companies\n",
        "\n",
        "\n",
        "Write a function with one parameter, representing the number of employees, and returns its corresponding category.\n",
        "\n",
        "Don't forget to return the corresponding category at the end of your function using the **return** keyword. Look carefully at the syntax of the functions in your course."
      ]
    },
    {
      "cell_type": "code",
      "metadata": {
        "id": "Qbm_ZwkGgfiw",
        "colab": {
          "base_uri": "https://localhost:8080/"
        },
        "outputId": "9ddd372e-f6ce-45e4-ed6d-5d03db55a96b"
      },
      "source": [
        "def from_nb_employee_to_category(total_employee):\n",
        "\n",
        "    category = \"\"\n",
        "\n",
        "    # to be completed\n",
        "\n",
        "    return category\n",
        "\n",
        "print(from_nb_employee_to_category(23))"
      ],
      "execution_count": null,
      "outputs": [
        {
          "output_type": "stream",
          "name": "stdout",
          "text": [
            "startup\n"
          ]
        }
      ]
    },
    {
      "cell_type": "markdown",
      "metadata": {
        "id": "PXVr563egfiy"
      },
      "source": [
        "j) We will go through all the companies in the initial file.\n",
        "\n",
        "We will create an empty list that will record all the information about each company as we go along.\n",
        "\n",
        "For each company, store its name, industry, domain and company category in relation to its number of employees (using your previous function) in a **dictionary**. Then add this dictionary to your list.\n",
        "\n",
        "In the end, your list will contain all the dictionaries of all the companies."
      ]
    },
    {
      "cell_type": "code",
      "metadata": {
        "id": "uvyBEc4Mgfiy",
        "colab": {
          "base_uri": "https://localhost:8080/"
        },
        "outputId": "708289e2-8eed-4ed3-c5cc-ea0d94e73d05"
      },
      "source": [
        "microsoft_companies_clean = []\n",
        "\n",
        "# for each company in the list\n",
        "for company_info in microsoft_companies:\n",
        "\n",
        "    # to be completed\n",
        "    # create new dictionnary\n",
        "    dict_company = {\n",
        "    }\n",
        "\n",
        "    # to be completed\n",
        "    # add dict_company to microsoft_companies_clean list\n",
        "\n",
        "\n",
        "microsoft_companies_clean[0]"
      ],
      "execution_count": null,
      "outputs": [
        {
          "output_type": "execute_result",
          "data": {
            "text/plain": [
              "{'name': 'microsoft',\n",
              " 'industry': 'computer games',\n",
              " 'domain': 'https://www.develop-online.net',\n",
              " 'cat_company': 'scaleup'}"
            ]
          },
          "metadata": {},
          "execution_count": 29
        }
      ]
    },
    {
      "cell_type": "markdown",
      "metadata": {
        "id": "Sj21qz_Ngfi2"
      },
      "source": [
        "k) Use the code below to create a DataFrame from it."
      ]
    },
    {
      "cell_type": "code",
      "metadata": {
        "id": "OoQHcdsagfi2",
        "colab": {
          "base_uri": "https://localhost:8080/",
          "height": 424
        },
        "outputId": "0a700c6b-fbc3-407d-ee41-b4ee4dad4c88"
      },
      "source": [
        "import pandas as pd\n",
        "\n",
        "df_microsoft_companies_clean = pd.DataFrame(microsoft_companies_clean)\n",
        "df_microsoft_companies_clean\n"
      ],
      "execution_count": null,
      "outputs": [
        {
          "output_type": "execute_result",
          "data": {
            "text/plain": [
              "                                                  name  \\\n",
              "0                                            microsoft   \n",
              "1                     omaha microsoft technology group   \n",
              "2                 microsoft alumni network ambassadors   \n",
              "3    scbn | microsoft certified professional - goog...   \n",
              "4    locatelli mcc - designing domotica (voip) solu...   \n",
              "..                                                 ...   \n",
              "296  pmx dynamics-business software for the real es...   \n",
              "297                             microsoft game studios   \n",
              "298                        microsoft alumni foundation   \n",
              "299  naveksa a/s - manufacturing solutions for micr...   \n",
              "300               f-keys ltd microsoft training centre   \n",
              "\n",
              "                                industry                           domain  \\\n",
              "0                         computer games   https://www.develop-online.net   \n",
              "1    information technology and services         https://www.omahamtg.com   \n",
              "2     non-profit organization management                     https://www.   \n",
              "3                               internet             https://www.scbn.biz   \n",
              "4    information technology and services    https://www.locatelli-mcc.com   \n",
              "..                                   ...                              ...   \n",
              "296  information technology and services      https://www.pmxdynamics.com   \n",
              "297                    computer software                     https://www.   \n",
              "298                         philanthropy  https://www.microsoftalumni.org   \n",
              "299                    computer software                     https://www.   \n",
              "300  information technology and services         https://www.f-keys.co.uk   \n",
              "\n",
              "        cat_company  \n",
              "0           scaleup  \n",
              "1    small business  \n",
              "2    small business  \n",
              "3           startup  \n",
              "4    small business  \n",
              "..              ...  \n",
              "296         startup  \n",
              "297         startup  \n",
              "298         startup  \n",
              "299  small business  \n",
              "300         startup  \n",
              "\n",
              "[301 rows x 4 columns]"
            ],
            "text/html": [
              "\n",
              "  <div id=\"df-d325e486-9f83-4f10-be1f-defd0c0030e9\">\n",
              "    <div class=\"colab-df-container\">\n",
              "      <div>\n",
              "<style scoped>\n",
              "    .dataframe tbody tr th:only-of-type {\n",
              "        vertical-align: middle;\n",
              "    }\n",
              "\n",
              "    .dataframe tbody tr th {\n",
              "        vertical-align: top;\n",
              "    }\n",
              "\n",
              "    .dataframe thead th {\n",
              "        text-align: right;\n",
              "    }\n",
              "</style>\n",
              "<table border=\"1\" class=\"dataframe\">\n",
              "  <thead>\n",
              "    <tr style=\"text-align: right;\">\n",
              "      <th></th>\n",
              "      <th>name</th>\n",
              "      <th>industry</th>\n",
              "      <th>domain</th>\n",
              "      <th>cat_company</th>\n",
              "    </tr>\n",
              "  </thead>\n",
              "  <tbody>\n",
              "    <tr>\n",
              "      <th>0</th>\n",
              "      <td>microsoft</td>\n",
              "      <td>computer games</td>\n",
              "      <td>https://www.develop-online.net</td>\n",
              "      <td>scaleup</td>\n",
              "    </tr>\n",
              "    <tr>\n",
              "      <th>1</th>\n",
              "      <td>omaha microsoft technology group</td>\n",
              "      <td>information technology and services</td>\n",
              "      <td>https://www.omahamtg.com</td>\n",
              "      <td>small business</td>\n",
              "    </tr>\n",
              "    <tr>\n",
              "      <th>2</th>\n",
              "      <td>microsoft alumni network ambassadors</td>\n",
              "      <td>non-profit organization management</td>\n",
              "      <td>https://www.</td>\n",
              "      <td>small business</td>\n",
              "    </tr>\n",
              "    <tr>\n",
              "      <th>3</th>\n",
              "      <td>scbn | microsoft certified professional - goog...</td>\n",
              "      <td>internet</td>\n",
              "      <td>https://www.scbn.biz</td>\n",
              "      <td>startup</td>\n",
              "    </tr>\n",
              "    <tr>\n",
              "      <th>4</th>\n",
              "      <td>locatelli mcc - designing domotica (voip) solu...</td>\n",
              "      <td>information technology and services</td>\n",
              "      <td>https://www.locatelli-mcc.com</td>\n",
              "      <td>small business</td>\n",
              "    </tr>\n",
              "    <tr>\n",
              "      <th>...</th>\n",
              "      <td>...</td>\n",
              "      <td>...</td>\n",
              "      <td>...</td>\n",
              "      <td>...</td>\n",
              "    </tr>\n",
              "    <tr>\n",
              "      <th>296</th>\n",
              "      <td>pmx dynamics-business software for the real es...</td>\n",
              "      <td>information technology and services</td>\n",
              "      <td>https://www.pmxdynamics.com</td>\n",
              "      <td>startup</td>\n",
              "    </tr>\n",
              "    <tr>\n",
              "      <th>297</th>\n",
              "      <td>microsoft game studios</td>\n",
              "      <td>computer software</td>\n",
              "      <td>https://www.</td>\n",
              "      <td>startup</td>\n",
              "    </tr>\n",
              "    <tr>\n",
              "      <th>298</th>\n",
              "      <td>microsoft alumni foundation</td>\n",
              "      <td>philanthropy</td>\n",
              "      <td>https://www.microsoftalumni.org</td>\n",
              "      <td>startup</td>\n",
              "    </tr>\n",
              "    <tr>\n",
              "      <th>299</th>\n",
              "      <td>naveksa a/s - manufacturing solutions for micr...</td>\n",
              "      <td>computer software</td>\n",
              "      <td>https://www.</td>\n",
              "      <td>small business</td>\n",
              "    </tr>\n",
              "    <tr>\n",
              "      <th>300</th>\n",
              "      <td>f-keys ltd microsoft training centre</td>\n",
              "      <td>information technology and services</td>\n",
              "      <td>https://www.f-keys.co.uk</td>\n",
              "      <td>startup</td>\n",
              "    </tr>\n",
              "  </tbody>\n",
              "</table>\n",
              "<p>301 rows × 4 columns</p>\n",
              "</div>\n",
              "      <button class=\"colab-df-convert\" onclick=\"convertToInteractive('df-d325e486-9f83-4f10-be1f-defd0c0030e9')\"\n",
              "              title=\"Convert this dataframe to an interactive table.\"\n",
              "              style=\"display:none;\">\n",
              "        \n",
              "  <svg xmlns=\"http://www.w3.org/2000/svg\" height=\"24px\"viewBox=\"0 0 24 24\"\n",
              "       width=\"24px\">\n",
              "    <path d=\"M0 0h24v24H0V0z\" fill=\"none\"/>\n",
              "    <path d=\"M18.56 5.44l.94 2.06.94-2.06 2.06-.94-2.06-.94-.94-2.06-.94 2.06-2.06.94zm-11 1L8.5 8.5l.94-2.06 2.06-.94-2.06-.94L8.5 2.5l-.94 2.06-2.06.94zm10 10l.94 2.06.94-2.06 2.06-.94-2.06-.94-.94-2.06-.94 2.06-2.06.94z\"/><path d=\"M17.41 7.96l-1.37-1.37c-.4-.4-.92-.59-1.43-.59-.52 0-1.04.2-1.43.59L10.3 9.45l-7.72 7.72c-.78.78-.78 2.05 0 2.83L4 21.41c.39.39.9.59 1.41.59.51 0 1.02-.2 1.41-.59l7.78-7.78 2.81-2.81c.8-.78.8-2.07 0-2.86zM5.41 20L4 18.59l7.72-7.72 1.47 1.35L5.41 20z\"/>\n",
              "  </svg>\n",
              "      </button>\n",
              "      \n",
              "  <style>\n",
              "    .colab-df-container {\n",
              "      display:flex;\n",
              "      flex-wrap:wrap;\n",
              "      gap: 12px;\n",
              "    }\n",
              "\n",
              "    .colab-df-convert {\n",
              "      background-color: #E8F0FE;\n",
              "      border: none;\n",
              "      border-radius: 50%;\n",
              "      cursor: pointer;\n",
              "      display: none;\n",
              "      fill: #1967D2;\n",
              "      height: 32px;\n",
              "      padding: 0 0 0 0;\n",
              "      width: 32px;\n",
              "    }\n",
              "\n",
              "    .colab-df-convert:hover {\n",
              "      background-color: #E2EBFA;\n",
              "      box-shadow: 0px 1px 2px rgba(60, 64, 67, 0.3), 0px 1px 3px 1px rgba(60, 64, 67, 0.15);\n",
              "      fill: #174EA6;\n",
              "    }\n",
              "\n",
              "    [theme=dark] .colab-df-convert {\n",
              "      background-color: #3B4455;\n",
              "      fill: #D2E3FC;\n",
              "    }\n",
              "\n",
              "    [theme=dark] .colab-df-convert:hover {\n",
              "      background-color: #434B5C;\n",
              "      box-shadow: 0px 1px 3px 1px rgba(0, 0, 0, 0.15);\n",
              "      filter: drop-shadow(0px 1px 2px rgba(0, 0, 0, 0.3));\n",
              "      fill: #FFFFFF;\n",
              "    }\n",
              "  </style>\n",
              "\n",
              "      <script>\n",
              "        const buttonEl =\n",
              "          document.querySelector('#df-d325e486-9f83-4f10-be1f-defd0c0030e9 button.colab-df-convert');\n",
              "        buttonEl.style.display =\n",
              "          google.colab.kernel.accessAllowed ? 'block' : 'none';\n",
              "\n",
              "        async function convertToInteractive(key) {\n",
              "          const element = document.querySelector('#df-d325e486-9f83-4f10-be1f-defd0c0030e9');\n",
              "          const dataTable =\n",
              "            await google.colab.kernel.invokeFunction('convertToInteractive',\n",
              "                                                     [key], {});\n",
              "          if (!dataTable) return;\n",
              "\n",
              "          const docLinkHtml = 'Like what you see? Visit the ' +\n",
              "            '<a target=\"_blank\" href=https://colab.research.google.com/notebooks/data_table.ipynb>data table notebook</a>'\n",
              "            + ' to learn more about interactive tables.';\n",
              "          element.innerHTML = '';\n",
              "          dataTable['output_type'] = 'display_data';\n",
              "          await google.colab.output.renderOutput(dataTable, element);\n",
              "          const docLink = document.createElement('div');\n",
              "          docLink.innerHTML = docLinkHtml;\n",
              "          element.appendChild(docLink);\n",
              "        }\n",
              "      </script>\n",
              "    </div>\n",
              "  </div>\n",
              "  "
            ]
          },
          "metadata": {},
          "execution_count": 30
        }
      ]
    },
    {
      "cell_type": "markdown",
      "metadata": {
        "id": "ubSWlCXKgfi5"
      },
      "source": [
        "Congratulations! This is your first DataFrame."
      ]
    },
    {
      "cell_type": "markdown",
      "source": [
        "l) What do you notice about domains column ?\n",
        "\n",
        "When no domain has been found API outputs \"https://www.\".\n",
        "\n",
        "This piece of information is not relevant to other teams. Change your code to delete that.\n",
        "\n",
        "One way to do so is to not store this key/value pair when iterating over all companies."
      ],
      "metadata": {
        "id": "uf46hSSFN-Rb"
      }
    },
    {
      "cell_type": "code",
      "source": [
        "microsoft_companies_clean = []\n",
        "\n",
        "# for each company in the list\n",
        "for company_info in microsoft_companies:\n",
        "\n",
        "    # to be completed\n",
        "    # create new dictionnary\n",
        "    dic_company = {\n",
        "    }\n",
        "\n",
        "    # to be completed\n",
        "    # test domain and add the key to dictionnary if needed\n",
        "\n",
        "\n",
        "    # add result to microsoft_companies_clean list\n",
        "\n",
        "\n",
        "df_microsoft_companies_clean = pd.DataFrame(microsoft_companies_clean)\n",
        "df_microsoft_companies_clean"
      ],
      "metadata": {
        "colab": {
          "base_uri": "https://localhost:8080/",
          "height": 424
        },
        "id": "y9uoaNcTO-GV",
        "outputId": "2c0bf148-c40d-481f-804f-9a16cae1a9d2"
      },
      "execution_count": null,
      "outputs": [
        {
          "output_type": "execute_result",
          "data": {
            "text/plain": [
              "                                                  name  \\\n",
              "0                                            microsoft   \n",
              "1                     omaha microsoft technology group   \n",
              "2                 microsoft alumni network ambassadors   \n",
              "3    scbn | microsoft certified professional - goog...   \n",
              "4    locatelli mcc - designing domotica (voip) solu...   \n",
              "..                                                 ...   \n",
              "296  pmx dynamics-business software for the real es...   \n",
              "297                             microsoft game studios   \n",
              "298                        microsoft alumni foundation   \n",
              "299  naveksa a/s - manufacturing solutions for micr...   \n",
              "300               f-keys ltd microsoft training centre   \n",
              "\n",
              "                                industry     cat_company  \\\n",
              "0                         computer games         scaleup   \n",
              "1    information technology and services  small business   \n",
              "2     non-profit organization management  small business   \n",
              "3                               internet         startup   \n",
              "4    information technology and services  small business   \n",
              "..                                   ...             ...   \n",
              "296  information technology and services         startup   \n",
              "297                    computer software         startup   \n",
              "298                         philanthropy         startup   \n",
              "299                    computer software  small business   \n",
              "300  information technology and services         startup   \n",
              "\n",
              "                              domain  \n",
              "0     https://www.develop-online.net  \n",
              "1           https://www.omahamtg.com  \n",
              "2                                NaN  \n",
              "3               https://www.scbn.biz  \n",
              "4      https://www.locatelli-mcc.com  \n",
              "..                               ...  \n",
              "296      https://www.pmxdynamics.com  \n",
              "297                              NaN  \n",
              "298  https://www.microsoftalumni.org  \n",
              "299                              NaN  \n",
              "300         https://www.f-keys.co.uk  \n",
              "\n",
              "[301 rows x 4 columns]"
            ],
            "text/html": [
              "\n",
              "  <div id=\"df-3ab25806-21fa-40df-a44e-b1b5ddc90311\">\n",
              "    <div class=\"colab-df-container\">\n",
              "      <div>\n",
              "<style scoped>\n",
              "    .dataframe tbody tr th:only-of-type {\n",
              "        vertical-align: middle;\n",
              "    }\n",
              "\n",
              "    .dataframe tbody tr th {\n",
              "        vertical-align: top;\n",
              "    }\n",
              "\n",
              "    .dataframe thead th {\n",
              "        text-align: right;\n",
              "    }\n",
              "</style>\n",
              "<table border=\"1\" class=\"dataframe\">\n",
              "  <thead>\n",
              "    <tr style=\"text-align: right;\">\n",
              "      <th></th>\n",
              "      <th>name</th>\n",
              "      <th>industry</th>\n",
              "      <th>cat_company</th>\n",
              "      <th>domain</th>\n",
              "    </tr>\n",
              "  </thead>\n",
              "  <tbody>\n",
              "    <tr>\n",
              "      <th>0</th>\n",
              "      <td>microsoft</td>\n",
              "      <td>computer games</td>\n",
              "      <td>scaleup</td>\n",
              "      <td>https://www.develop-online.net</td>\n",
              "    </tr>\n",
              "    <tr>\n",
              "      <th>1</th>\n",
              "      <td>omaha microsoft technology group</td>\n",
              "      <td>information technology and services</td>\n",
              "      <td>small business</td>\n",
              "      <td>https://www.omahamtg.com</td>\n",
              "    </tr>\n",
              "    <tr>\n",
              "      <th>2</th>\n",
              "      <td>microsoft alumni network ambassadors</td>\n",
              "      <td>non-profit organization management</td>\n",
              "      <td>small business</td>\n",
              "      <td>NaN</td>\n",
              "    </tr>\n",
              "    <tr>\n",
              "      <th>3</th>\n",
              "      <td>scbn | microsoft certified professional - goog...</td>\n",
              "      <td>internet</td>\n",
              "      <td>startup</td>\n",
              "      <td>https://www.scbn.biz</td>\n",
              "    </tr>\n",
              "    <tr>\n",
              "      <th>4</th>\n",
              "      <td>locatelli mcc - designing domotica (voip) solu...</td>\n",
              "      <td>information technology and services</td>\n",
              "      <td>small business</td>\n",
              "      <td>https://www.locatelli-mcc.com</td>\n",
              "    </tr>\n",
              "    <tr>\n",
              "      <th>...</th>\n",
              "      <td>...</td>\n",
              "      <td>...</td>\n",
              "      <td>...</td>\n",
              "      <td>...</td>\n",
              "    </tr>\n",
              "    <tr>\n",
              "      <th>296</th>\n",
              "      <td>pmx dynamics-business software for the real es...</td>\n",
              "      <td>information technology and services</td>\n",
              "      <td>startup</td>\n",
              "      <td>https://www.pmxdynamics.com</td>\n",
              "    </tr>\n",
              "    <tr>\n",
              "      <th>297</th>\n",
              "      <td>microsoft game studios</td>\n",
              "      <td>computer software</td>\n",
              "      <td>startup</td>\n",
              "      <td>NaN</td>\n",
              "    </tr>\n",
              "    <tr>\n",
              "      <th>298</th>\n",
              "      <td>microsoft alumni foundation</td>\n",
              "      <td>philanthropy</td>\n",
              "      <td>startup</td>\n",
              "      <td>https://www.microsoftalumni.org</td>\n",
              "    </tr>\n",
              "    <tr>\n",
              "      <th>299</th>\n",
              "      <td>naveksa a/s - manufacturing solutions for micr...</td>\n",
              "      <td>computer software</td>\n",
              "      <td>small business</td>\n",
              "      <td>NaN</td>\n",
              "    </tr>\n",
              "    <tr>\n",
              "      <th>300</th>\n",
              "      <td>f-keys ltd microsoft training centre</td>\n",
              "      <td>information technology and services</td>\n",
              "      <td>startup</td>\n",
              "      <td>https://www.f-keys.co.uk</td>\n",
              "    </tr>\n",
              "  </tbody>\n",
              "</table>\n",
              "<p>301 rows × 4 columns</p>\n",
              "</div>\n",
              "      <button class=\"colab-df-convert\" onclick=\"convertToInteractive('df-3ab25806-21fa-40df-a44e-b1b5ddc90311')\"\n",
              "              title=\"Convert this dataframe to an interactive table.\"\n",
              "              style=\"display:none;\">\n",
              "        \n",
              "  <svg xmlns=\"http://www.w3.org/2000/svg\" height=\"24px\"viewBox=\"0 0 24 24\"\n",
              "       width=\"24px\">\n",
              "    <path d=\"M0 0h24v24H0V0z\" fill=\"none\"/>\n",
              "    <path d=\"M18.56 5.44l.94 2.06.94-2.06 2.06-.94-2.06-.94-.94-2.06-.94 2.06-2.06.94zm-11 1L8.5 8.5l.94-2.06 2.06-.94-2.06-.94L8.5 2.5l-.94 2.06-2.06.94zm10 10l.94 2.06.94-2.06 2.06-.94-2.06-.94-.94-2.06-.94 2.06-2.06.94z\"/><path d=\"M17.41 7.96l-1.37-1.37c-.4-.4-.92-.59-1.43-.59-.52 0-1.04.2-1.43.59L10.3 9.45l-7.72 7.72c-.78.78-.78 2.05 0 2.83L4 21.41c.39.39.9.59 1.41.59.51 0 1.02-.2 1.41-.59l7.78-7.78 2.81-2.81c.8-.78.8-2.07 0-2.86zM5.41 20L4 18.59l7.72-7.72 1.47 1.35L5.41 20z\"/>\n",
              "  </svg>\n",
              "      </button>\n",
              "      \n",
              "  <style>\n",
              "    .colab-df-container {\n",
              "      display:flex;\n",
              "      flex-wrap:wrap;\n",
              "      gap: 12px;\n",
              "    }\n",
              "\n",
              "    .colab-df-convert {\n",
              "      background-color: #E8F0FE;\n",
              "      border: none;\n",
              "      border-radius: 50%;\n",
              "      cursor: pointer;\n",
              "      display: none;\n",
              "      fill: #1967D2;\n",
              "      height: 32px;\n",
              "      padding: 0 0 0 0;\n",
              "      width: 32px;\n",
              "    }\n",
              "\n",
              "    .colab-df-convert:hover {\n",
              "      background-color: #E2EBFA;\n",
              "      box-shadow: 0px 1px 2px rgba(60, 64, 67, 0.3), 0px 1px 3px 1px rgba(60, 64, 67, 0.15);\n",
              "      fill: #174EA6;\n",
              "    }\n",
              "\n",
              "    [theme=dark] .colab-df-convert {\n",
              "      background-color: #3B4455;\n",
              "      fill: #D2E3FC;\n",
              "    }\n",
              "\n",
              "    [theme=dark] .colab-df-convert:hover {\n",
              "      background-color: #434B5C;\n",
              "      box-shadow: 0px 1px 3px 1px rgba(0, 0, 0, 0.15);\n",
              "      filter: drop-shadow(0px 1px 2px rgba(0, 0, 0, 0.3));\n",
              "      fill: #FFFFFF;\n",
              "    }\n",
              "  </style>\n",
              "\n",
              "      <script>\n",
              "        const buttonEl =\n",
              "          document.querySelector('#df-3ab25806-21fa-40df-a44e-b1b5ddc90311 button.colab-df-convert');\n",
              "        buttonEl.style.display =\n",
              "          google.colab.kernel.accessAllowed ? 'block' : 'none';\n",
              "\n",
              "        async function convertToInteractive(key) {\n",
              "          const element = document.querySelector('#df-3ab25806-21fa-40df-a44e-b1b5ddc90311');\n",
              "          const dataTable =\n",
              "            await google.colab.kernel.invokeFunction('convertToInteractive',\n",
              "                                                     [key], {});\n",
              "          if (!dataTable) return;\n",
              "\n",
              "          const docLinkHtml = 'Like what you see? Visit the ' +\n",
              "            '<a target=\"_blank\" href=https://colab.research.google.com/notebooks/data_table.ipynb>data table notebook</a>'\n",
              "            + ' to learn more about interactive tables.';\n",
              "          element.innerHTML = '';\n",
              "          dataTable['output_type'] = 'display_data';\n",
              "          await google.colab.output.renderOutput(dataTable, element);\n",
              "          const docLink = document.createElement('div');\n",
              "          docLink.innerHTML = docLinkHtml;\n",
              "          element.appendChild(docLink);\n",
              "        }\n",
              "      </script>\n",
              "    </div>\n",
              "  </div>\n",
              "  "
            ]
          },
          "metadata": {},
          "execution_count": 32
        }
      ]
    },
    {
      "cell_type": "markdown",
      "source": [
        "m)  Export the clean dataframe to a CSV format containing key information about the companies."
      ],
      "metadata": {
        "id": "nLobPtA_nXQn"
      }
    },
    {
      "cell_type": "code",
      "source": [],
      "metadata": {
        "id": "AG2F2BFZnWXY"
      },
      "execution_count": null,
      "outputs": []
    }
  ]
}